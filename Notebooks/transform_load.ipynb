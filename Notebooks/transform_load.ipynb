{
 "cells": [
  {
   "cell_type": "code",
   "execution_count": 33,
   "id": "c8fb01ba",
   "metadata": {},
   "outputs": [],
   "source": [
    "import os\n",
    "import pandas as pd"
   ]
  },
  {
   "cell_type": "code",
   "execution_count": 44,
   "id": "a9072ba3",
   "metadata": {},
   "outputs": [
    {
     "name": "stdout",
     "output_type": "stream",
     "text": [
      "Archivo guardado _full_.csv\n",
      "\n"
     ]
    }
   ],
   "source": [
    "# Carpeta con la data\n",
    "path = \"./data\"\n",
    "\n",
    "# extension a detectar\n",
    "extension = '.csv'\n",
    "li = []\n",
    "\n",
    "for root, dirs_list, files_list in os.walk(path):\n",
    "    for file_name in files_list:\n",
    "        if os.path.splitext(file_name)[-1] == extension:\n",
    "            file_name_path = os.path.join(root, file_name)\n",
    "            #print(file_name)\n",
    "            #print(file_name_path)\n",
    "            #print(pd.read_csv(file_name_path).head())\n",
    "            df = pd.read_csv(file_name_path, index_col=None, header=0)\n",
    "            li.append(df)\n",
    "\n",
    "            \n",
    "salida = pd.concat(li, axis=0, ignore_index=True)\n",
    "\n",
    "nombre_archivo = '_full_' + '.csv' \n",
    "csv_folder = 'output/'\n",
    "file_dir = os.path.dirname(os.path.abspath(\"__file__\"))\n",
    "\n",
    "\n",
    "file_path = os.path.join(file_dir, csv_folder, nombre_archivo)\n",
    "salida.to_csv(file_path, index=False)\n",
    "print('Archivo guardado', nombre_archivo)\n",
    "print(\"\")\n"
   ]
  }
 ],
 "metadata": {
  "kernelspec": {
   "display_name": "Python 3 (ipykernel)",
   "language": "python",
   "name": "python3"
  },
  "language_info": {
   "codemirror_mode": {
    "name": "ipython",
    "version": 3
   },
   "file_extension": ".py",
   "mimetype": "text/x-python",
   "name": "python",
   "nbconvert_exporter": "python",
   "pygments_lexer": "ipython3",
   "version": "3.7.4"
  }
 },
 "nbformat": 4,
 "nbformat_minor": 5
}
